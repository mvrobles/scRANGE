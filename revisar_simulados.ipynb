{
 "cells": [
  {
   "cell_type": "code",
   "execution_count": 2,
   "id": "b5a4b012",
   "metadata": {},
   "outputs": [],
   "source": [
    "import pandas as pd\n",
    "from glob import glob\n",
    "from utils import read_data"
   ]
  },
  {
   "cell_type": "code",
   "execution_count": 3,
   "id": "25e4723e",
   "metadata": {},
   "outputs": [],
   "source": [
    "for folder in glob('Data/Simulated/*'):\n",
    "    clusters_path = folder + '/clusters.csv'\n",
    "    clusters = pd.read_csv(clusters_path, header = None, sep = '\\t')\n",
    "\n",
    "    clusters.columns = ['Barcode','Cluster']\n",
    "\n",
    "    clusters.to_csv(clusters_path, index = None)"
   ]
  },
  {
   "cell_type": "code",
   "execution_count": 5,
   "id": "86bee0aa",
   "metadata": {},
   "outputs": [
    {
     "data": {
      "text/plain": [
       "'Data/Simulated/symsim_1000_1500_3_0.01_2000_replica5'"
      ]
     },
     "execution_count": 5,
     "metadata": {},
     "output_type": "execute_result"
    }
   ],
   "source": [
    "folder"
   ]
  },
  {
   "cell_type": "code",
   "execution_count": null,
   "id": "fe923e7c",
   "metadata": {},
   "outputs": [],
   "source": []
  }
 ],
 "metadata": {
  "kernelspec": {
   "display_name": "env_Fairness",
   "language": "python",
   "name": "python3"
  },
  "language_info": {
   "codemirror_mode": {
    "name": "ipython",
    "version": 3
   },
   "file_extension": ".py",
   "mimetype": "text/x-python",
   "name": "python",
   "nbconvert_exporter": "python",
   "pygments_lexer": "ipython3",
   "version": "3.11.5"
  }
 },
 "nbformat": 4,
 "nbformat_minor": 5
}
