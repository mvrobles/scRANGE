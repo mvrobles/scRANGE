{
 "cells": [
  {
   "cell_type": "code",
   "execution_count": 8,
   "metadata": {},
   "outputs": [],
   "source": [
    "from glob import glob\n",
    "from tqdm import tqdm\n",
    "import os "
   ]
  },
  {
   "cell_type": "code",
   "execution_count": 25,
   "metadata": {},
   "outputs": [
    {
     "name": "stderr",
     "output_type": "stream",
     "text": [
      "100%|██████████| 10/10 [00:00<00:00, 51.93it/s]"
     ]
    },
    {
     "name": "stdout",
     "output_type": "stream",
     "text": [
      "symsim_1000_2000_5_0.01_1000_replica5\n",
      "symsim_1000_2000_5_0.01_1000_replica2\n",
      "symsim_1000_2000_5_0.01_1000\n",
      "symsim_1000_2000_5_0.01_1000_replica3\n",
      "symsim_1000_2000_5_0.01_1000_replica4\n",
      "symsim_1000_2000_5_0.01_2000_replica3\n",
      "symsim_1000_2000_5_0.01_2000_replica4\n",
      "symsim_1000_2000_5_0.01_2000_replica5\n",
      "symsim_1000_2000_5_0.01_2000_replica2\n",
      "symsim_1000_2000_5_0.01_2000\n"
     ]
    },
    {
     "name": "stderr",
     "output_type": "stream",
     "text": [
      "\n"
     ]
    }
   ],
   "source": [
    "lista = glob('symsim*/hg19/')\n",
    "for folder in tqdm(lista):\n",
    "    destination_folder = folder.split('/')[0]\n",
    "\n",
    "    print(destination_folder)\n",
    "    for file in glob(os.path.join(folder, '*')):\n",
    "        os.system(f'cp {file} {destination_folder}')\n",
    "\n",
    "    os.system(f'rm -r {folder[:-1]}')"
   ]
  },
  {
   "cell_type": "code",
   "execution_count": null,
   "metadata": {},
   "outputs": [],
   "source": [
    "for file in glob(folder +'*') :\n",
    "    print(file)\n",
    "    #os.system(f'cp {file} {destination_folder}')"
   ]
  },
  {
   "cell_type": "code",
   "execution_count": 26,
   "metadata": {},
   "outputs": [],
   "source": [
    "for file in glob('symsim*/genes.tsv'):\n",
    "    os.system(f'mv {file} {file.replace(\"genes\", \"features\")}')"
   ]
  },
  {
   "cell_type": "code",
   "execution_count": null,
   "metadata": {},
   "outputs": [],
   "source": []
  }
 ],
 "metadata": {
  "kernelspec": {
   "display_name": "env_scRNA",
   "language": "python",
   "name": "python3"
  },
  "language_info": {
   "codemirror_mode": {
    "name": "ipython",
    "version": 3
   },
   "file_extension": ".py",
   "mimetype": "text/x-python",
   "name": "python",
   "nbconvert_exporter": "python",
   "pygments_lexer": "ipython3",
   "version": "3.11.0"
  }
 },
 "nbformat": 4,
 "nbformat_minor": 2
}
